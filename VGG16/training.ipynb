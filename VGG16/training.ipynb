{
  "nbformat": 4,
  "nbformat_minor": 0,
  "metadata": {
    "colab": {
      "name": "training.ipynb",
      "provenance": []
    },
    "kernelspec": {
      "name": "python3",
      "display_name": "Python 3"
    },
    "accelerator": "GPU"
  },
  "cells": [
    {
      "cell_type": "code",
      "metadata": {
        "id": "8trTCNtCmOnQ",
        "colab_type": "code",
        "colab": {}
      },
      "source": [
        "import tensorflow as tf\n",
        "from tensorflow import keras\n",
        "from tensorflow.keras.preprocessing.image import ImageDataGenerator\n",
        "from vgg16 import VGG16"
      ],
      "execution_count": 0,
      "outputs": []
    },
    {
      "cell_type": "code",
      "metadata": {
        "id": "LcJEdygwmbVD",
        "colab_type": "code",
        "colab": {}
      },
      "source": [
        "from google.colab import files\n",
        "!pip install -q kaggle\n",
        "!mkdir -p ~/.kaggle\n",
        "!cp kaggle.json ~/.kaggle/\n",
        "!chmod 600 ~/.kaggle/kaggle.json"
      ],
      "execution_count": 0,
      "outputs": []
    },
    {
      "cell_type": "code",
      "metadata": {
        "id": "jXLQSmOomg4g",
        "colab_type": "code",
        "outputId": "9d8af614-cb2d-474e-d8e4-0faef854506a",
        "colab": {
          "base_uri": "https://localhost:8080/",
          "height": 67
        }
      },
      "source": [
        "!kaggle datasets download -d alxmamaev/flowers-recognition"
      ],
      "execution_count": 3,
      "outputs": [
        {
          "output_type": "stream",
          "text": [
            "Downloading flowers-recognition.zip to /content\n",
            "100% 448M/450M [00:05<00:00, 46.6MB/s]\n",
            "100% 450M/450M [00:05<00:00, 80.8MB/s]\n"
          ],
          "name": "stdout"
        }
      ]
    },
    {
      "cell_type": "code",
      "metadata": {
        "id": "U90RHSJgmqW_",
        "colab_type": "code",
        "colab": {}
      },
      "source": [
        "!unzip flowers-recognition.zip -d flowers-recognition"
      ],
      "execution_count": 0,
      "outputs": []
    },
    {
      "cell_type": "code",
      "metadata": {
        "id": "FN8CeTEHmyFg",
        "colab_type": "code",
        "outputId": "ef2875a0-f962-4fb3-a3b5-04aa366eb482",
        "colab": {
          "base_uri": "https://localhost:8080/",
          "height": 50
        }
      },
      "source": [
        "datagen = ImageDataGenerator(validation_split=0.2)\n",
        "\n",
        "train_data = datagen.flow_from_directory(directory='flowers-recognition/flowers',\n",
        "                                         target_size=(224, 224),\n",
        "                                         class_mode='categorical',\n",
        "                                         classes=['daisy', 'dandelion', 'rose', 'sunflower', 'tulip'],\n",
        "                                         shuffle=True,\n",
        "                                         batch_size=32,\n",
        "                                         subset='training')\n",
        "\n",
        "test_data = datagen.flow_from_directory(directory='flowers-recognition/flowers',\n",
        "                                         target_size=(224, 224),\n",
        "                                         class_mode='categorical',\n",
        "                                        classes=['daisy', 'dandelion', 'rose', 'sunflower', 'tulip'],\n",
        "                                         shuffle=True,\n",
        "                                         batch_size=1,\n",
        "                                        subset='validation')"
      ],
      "execution_count": 5,
      "outputs": [
        {
          "output_type": "stream",
          "text": [
            "Found 3462 images belonging to 5 classes.\n",
            "Found 861 images belonging to 5 classes.\n"
          ],
          "name": "stdout"
        }
      ]
    },
    {
      "cell_type": "code",
      "metadata": {
        "id": "rAX0zYY9mz47",
        "colab_type": "code",
        "colab": {}
      },
      "source": [
        "STEP_SIZE_TRAIN = train_data.n//train_data.batch_size\n",
        "STEP_SIZE_VALID = test_data.n//test_data.batch_size"
      ],
      "execution_count": 0,
      "outputs": []
    },
    {
      "cell_type": "code",
      "metadata": {
        "id": "qnjfkQr_nJ2A",
        "colab_type": "code",
        "outputId": "1294e08f-6b5b-4642-e1f4-c014e25779ca",
        "colab": {
          "base_uri": "https://localhost:8080/",
          "height": 34
        }
      },
      "source": [
        "model = VGG16(classes=5)\n",
        "model.build_model()\n",
        "model.compile_model(learning_rate=0.0003)"
      ],
      "execution_count": 7,
      "outputs": [
        {
          "output_type": "execute_result",
          "data": {
            "text/plain": [
              "<tensorflow.python.keras.engine.sequential.Sequential at 0x7f0800fd1ba8>"
            ]
          },
          "metadata": {
            "tags": []
          },
          "execution_count": 7
        }
      ]
    },
    {
      "cell_type": "code",
      "metadata": {
        "id": "R5HbRXn3oZ2T",
        "colab_type": "code",
        "outputId": "d89a4e3b-6316-4a59-d9e7-51746cec378d",
        "colab": {
          "base_uri": "https://localhost:8080/",
          "height": 608
        }
      },
      "source": [
        "model.model.fit_generator(generator=train_data, steps_per_epoch=STEP_SIZE_TRAIN,\n",
        "                    validation_data=test_data, validation_steps=STEP_SIZE_VALID,\n",
        "                    epochs=15)"
      ],
      "execution_count": 8,
      "outputs": [
        {
          "output_type": "stream",
          "text": [
            "WARNING:tensorflow:From <ipython-input-8-0fdeeef7fcb0>:3: Model.fit_generator (from tensorflow.python.keras.engine.training) is deprecated and will be removed in a future version.\n",
            "Instructions for updating:\n",
            "Please use Model.fit, which supports generators.\n",
            "Epoch 1/15\n",
            "108/108 [==============================] - 114s 1s/step - loss: 1.5672 - accuracy: 0.2892 - val_loss: 1.3245 - val_accuracy: 0.4460\n",
            "Epoch 2/15\n",
            "108/108 [==============================] - 111s 1s/step - loss: 1.2649 - accuracy: 0.4499 - val_loss: 1.1445 - val_accuracy: 0.5145\n",
            "Epoch 3/15\n",
            "108/108 [==============================] - 111s 1s/step - loss: 1.1628 - accuracy: 0.5120 - val_loss: 1.0606 - val_accuracy: 0.5761\n",
            "Epoch 4/15\n",
            "108/108 [==============================] - 110s 1s/step - loss: 1.0794 - accuracy: 0.5624 - val_loss: 1.0045 - val_accuracy: 0.6016\n",
            "Epoch 5/15\n",
            "108/108 [==============================] - 110s 1s/step - loss: 1.0080 - accuracy: 0.6020 - val_loss: 1.0240 - val_accuracy: 0.5912\n",
            "Epoch 6/15\n",
            "108/108 [==============================] - 111s 1s/step - loss: 0.9637 - accuracy: 0.6090 - val_loss: 0.9861 - val_accuracy: 0.6202\n",
            "Epoch 7/15\n",
            "108/108 [==============================] - 110s 1s/step - loss: 0.9245 - accuracy: 0.6335 - val_loss: 0.9152 - val_accuracy: 0.6260\n",
            "Epoch 8/15\n",
            "108/108 [==============================] - 111s 1s/step - loss: 0.8715 - accuracy: 0.6673 - val_loss: 0.8596 - val_accuracy: 0.6597\n",
            "Epoch 9/15\n",
            "108/108 [==============================] - 110s 1s/step - loss: 0.8492 - accuracy: 0.6770 - val_loss: 0.8862 - val_accuracy: 0.6597\n",
            "Epoch 10/15\n",
            "108/108 [==============================] - 110s 1s/step - loss: 0.8196 - accuracy: 0.6790 - val_loss: 0.8630 - val_accuracy: 0.6702\n",
            "Epoch 11/15\n",
            "108/108 [==============================] - 111s 1s/step - loss: 0.7994 - accuracy: 0.6910 - val_loss: 0.8673 - val_accuracy: 0.6748\n",
            "Epoch 12/15\n",
            "108/108 [==============================] - 110s 1s/step - loss: 0.7806 - accuracy: 0.7015 - val_loss: 0.9018 - val_accuracy: 0.6585\n",
            "Epoch 13/15\n",
            "108/108 [==============================] - 111s 1s/step - loss: 0.7667 - accuracy: 0.7085 - val_loss: 0.8769 - val_accuracy: 0.6620\n",
            "Epoch 14/15\n",
            "108/108 [==============================] - 111s 1s/step - loss: 0.7328 - accuracy: 0.7324 - val_loss: 0.7730 - val_accuracy: 0.7085\n",
            "Epoch 15/15\n",
            "108/108 [==============================] - 111s 1s/step - loss: 0.7158 - accuracy: 0.7300 - val_loss: 0.7375 - val_accuracy: 0.7247\n"
          ],
          "name": "stdout"
        },
        {
          "output_type": "execute_result",
          "data": {
            "text/plain": [
              "<tensorflow.python.keras.callbacks.History at 0x7f08004007f0>"
            ]
          },
          "metadata": {
            "tags": []
          },
          "execution_count": 8
        }
      ]
    },
    {
      "cell_type": "code",
      "metadata": {
        "id": "PuHprtp0sz1q",
        "colab_type": "code",
        "outputId": "fea683ab-f212-487d-f27b-e66defb3da1a",
        "colab": {
          "base_uri": "https://localhost:8080/",
          "height": 104
        }
      },
      "source": [
        "model.model.evaluate_generator(test_data)"
      ],
      "execution_count": 9,
      "outputs": [
        {
          "output_type": "stream",
          "text": [
            "WARNING:tensorflow:From <ipython-input-9-7b388626dfc7>:1: Model.evaluate_generator (from tensorflow.python.keras.engine.training) is deprecated and will be removed in a future version.\n",
            "Instructions for updating:\n",
            "Please use Model.evaluate, which supports generators.\n"
          ],
          "name": "stdout"
        },
        {
          "output_type": "execute_result",
          "data": {
            "text/plain": [
              "[0.7375376224517822, 0.7247386574745178]"
            ]
          },
          "metadata": {
            "tags": []
          },
          "execution_count": 9
        }
      ]
    },
    {
      "cell_type": "code",
      "metadata": {
        "id": "S0RgOx_QxPnL",
        "colab_type": "code",
        "colab": {}
      },
      "source": [
        ""
      ],
      "execution_count": 0,
      "outputs": []
    }
  ]
}