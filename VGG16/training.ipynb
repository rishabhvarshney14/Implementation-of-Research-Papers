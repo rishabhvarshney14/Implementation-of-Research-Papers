{
  "nbformat": 4,
  "nbformat_minor": 0,
  "metadata": {
    "colab": {
      "name": "training.ipynb",
      "provenance": []
    },
    "kernelspec": {
      "name": "python3",
      "display_name": "Python 3"
    },
    "accelerator": "GPU"
  },
  "cells": [
    {
      "cell_type": "code",
      "metadata": {
        "id": "8trTCNtCmOnQ",
        "colab_type": "code",
        "colab": {}
      },
      "source": [
        "import tensorflow as tf\n",
        "from tensorflow import keras\n",
        "from tensorflow.keras.preprocessing.image import ImageDataGenerator\n",
        "from vgg16 import VGG16"
      ],
      "execution_count": 0,
      "outputs": []
    },
    {
      "cell_type": "code",
      "metadata": {
        "id": "LcJEdygwmbVD",
        "colab_type": "code",
        "colab": {}
      },
      "source": [
        "from google.colab import files\n",
        "!pip install -q kaggle\n",
        "!mkdir -p ~/.kaggle\n",
        "!cp kaggle.json ~/.kaggle/\n",
        "!chmod 600 ~/.kaggle/kaggle.json"
      ],
      "execution_count": 0,
      "outputs": []
    },
    {
      "cell_type": "code",
      "metadata": {
        "id": "jXLQSmOomg4g",
        "colab_type": "code",
        "colab": {
          "base_uri": "https://localhost:8080/",
          "height": 67
        },
        "outputId": "f8536227-5b1b-4bac-c0ba-2414ea6a92cd"
      },
      "source": [
        "!kaggle datasets download -d alxmamaev/flowers-recognition"
      ],
      "execution_count": 3,
      "outputs": [
        {
          "output_type": "stream",
          "text": [
            "Downloading flowers-recognition.zip to /content\n",
            " 99% 447M/450M [00:03<00:00, 129MB/s]\n",
            "100% 450M/450M [00:03<00:00, 121MB/s]\n"
          ],
          "name": "stdout"
        }
      ]
    },
    {
      "cell_type": "code",
      "metadata": {
        "id": "U90RHSJgmqW_",
        "colab_type": "code",
        "colab": {}
      },
      "source": [
        "!unzip flowers-recognition.zip -d flowers-recognition"
      ],
      "execution_count": 0,
      "outputs": []
    },
    {
      "cell_type": "code",
      "metadata": {
        "id": "FN8CeTEHmyFg",
        "colab_type": "code",
        "colab": {
          "base_uri": "https://localhost:8080/",
          "height": 50
        },
        "outputId": "fc7b63bf-00b8-43dc-ea65-6497e39776e7"
      },
      "source": [
        "datagen = ImageDataGenerator(validation_split=0.2)\n",
        "\n",
        "train_data = datagen.flow_from_directory(directory='flowers-recognition/flowers',\n",
        "                                         target_size=(224, 224),\n",
        "                                         class_mode='categorical',\n",
        "                                         classes=['daisy', 'dandelion', 'rose', 'sunflower', 'tulip'],\n",
        "                                         shuffle=True,\n",
        "                                         batch_size=32,\n",
        "                                         subset='training')\n",
        "\n",
        "test_data = datagen.flow_from_directory(directory='flowers-recognition/flowers',\n",
        "                                         target_size=(224, 224),\n",
        "                                         class_mode='categorical',\n",
        "                                        classes=['daisy', 'dandelion', 'rose', 'sunflower', 'tulip'],\n",
        "                                         shuffle=True,\n",
        "                                         batch_size=1,\n",
        "                                        subset='validation')"
      ],
      "execution_count": 5,
      "outputs": [
        {
          "output_type": "stream",
          "text": [
            "Found 3462 images belonging to 5 classes.\n",
            "Found 861 images belonging to 5 classes.\n"
          ],
          "name": "stdout"
        }
      ]
    },
    {
      "cell_type": "code",
      "metadata": {
        "id": "rAX0zYY9mz47",
        "colab_type": "code",
        "colab": {}
      },
      "source": [
        "STEP_SIZE_TRAIN = train_data.n//train_data.batch_size\n",
        "STEP_SIZE_VALID = test_data.n//test_data.batch_size"
      ],
      "execution_count": 0,
      "outputs": []
    },
    {
      "cell_type": "code",
      "metadata": {
        "id": "qnjfkQr_nJ2A",
        "colab_type": "code",
        "colab": {
          "base_uri": "https://localhost:8080/",
          "height": 34
        },
        "outputId": "70233dd6-50b1-48d6-8f02-abcd4f2f8246"
      },
      "source": [
        "model = VGG16(classes=5)\n",
        "model.build_model()\n",
        "model.compile_model(learning_rate=0.001)"
      ],
      "execution_count": 9,
      "outputs": [
        {
          "output_type": "execute_result",
          "data": {
            "text/plain": [
              "<tensorflow.python.keras.engine.sequential.Sequential at 0x7faca026a9e8>"
            ]
          },
          "metadata": {
            "tags": []
          },
          "execution_count": 9
        }
      ]
    },
    {
      "cell_type": "code",
      "metadata": {
        "id": "R5HbRXn3oZ2T",
        "colab_type": "code",
        "colab": {
          "base_uri": "https://localhost:8080/",
          "height": 370
        },
        "outputId": "86ef0493-99f8-4b6a-9901-1fa47ed7ce7c"
      },
      "source": [
        "model.model.fit_generator(generator=train_data, steps_per_epoch=STEP_SIZE_TRAIN,\n",
        "                    validation_data=test_data, validation_steps=STEP_SIZE_VALID,\n",
        "                    epochs=10)"
      ],
      "execution_count": 10,
      "outputs": [
        {
          "output_type": "stream",
          "text": [
            "Epoch 1/10\n",
            "108/108 [==============================] - 112s 1s/step - loss: 1.5758 - accuracy: 0.2743 - val_loss: 1.3709 - val_accuracy: 0.4088\n",
            "Epoch 2/10\n",
            "108/108 [==============================] - 112s 1s/step - loss: 1.2841 - accuracy: 0.4367 - val_loss: 1.1142 - val_accuracy: 0.5157\n",
            "Epoch 3/10\n",
            "108/108 [==============================] - 112s 1s/step - loss: 1.1329 - accuracy: 0.5257 - val_loss: 1.0485 - val_accuracy: 0.5656\n",
            "Epoch 4/10\n",
            "108/108 [==============================] - 112s 1s/step - loss: 1.0260 - accuracy: 0.5805 - val_loss: 0.9234 - val_accuracy: 0.6318\n",
            "Epoch 5/10\n",
            "108/108 [==============================] - 112s 1s/step - loss: 0.9603 - accuracy: 0.6213 - val_loss: 0.9441 - val_accuracy: 0.6353\n",
            "Epoch 6/10\n",
            "108/108 [==============================] - 112s 1s/step - loss: 0.9266 - accuracy: 0.6347 - val_loss: 0.8819 - val_accuracy: 0.6365\n",
            "Epoch 7/10\n",
            "108/108 [==============================] - 112s 1s/step - loss: 0.8609 - accuracy: 0.6706 - val_loss: 0.8229 - val_accuracy: 0.6887\n",
            "Epoch 8/10\n",
            "108/108 [==============================] - 112s 1s/step - loss: 0.8084 - accuracy: 0.6971 - val_loss: 0.8542 - val_accuracy: 0.6678\n",
            "Epoch 9/10\n",
            "108/108 [==============================] - 112s 1s/step - loss: 0.7951 - accuracy: 0.7044 - val_loss: 0.7816 - val_accuracy: 0.7073\n",
            "Epoch 10/10\n",
            "108/108 [==============================] - 112s 1s/step - loss: 0.7615 - accuracy: 0.7061 - val_loss: 0.8136 - val_accuracy: 0.6945\n"
          ],
          "name": "stdout"
        },
        {
          "output_type": "execute_result",
          "data": {
            "text/plain": [
              "<tensorflow.python.keras.callbacks.History at 0x7faca0182828>"
            ]
          },
          "metadata": {
            "tags": []
          },
          "execution_count": 10
        }
      ]
    },
    {
      "cell_type": "code",
      "metadata": {
        "id": "PuHprtp0sz1q",
        "colab_type": "code",
        "colab": {
          "base_uri": "https://localhost:8080/",
          "height": 104
        },
        "outputId": "5bc0a80e-0e50-4713-b6ca-3c10f66a9466"
      },
      "source": [
        "model.model.evaluate_generator(test_data)"
      ],
      "execution_count": 11,
      "outputs": [
        {
          "output_type": "stream",
          "text": [
            "WARNING:tensorflow:From <ipython-input-11-7b388626dfc7>:1: Model.evaluate_generator (from tensorflow.python.keras.engine.training) is deprecated and will be removed in a future version.\n",
            "Instructions for updating:\n",
            "Please use Model.evaluate, which supports generators.\n"
          ],
          "name": "stdout"
        },
        {
          "output_type": "execute_result",
          "data": {
            "text/plain": [
              "[0.8136326670646667, 0.6945412158966064]"
            ]
          },
          "metadata": {
            "tags": []
          },
          "execution_count": 11
        }
      ]
    },
    {
      "cell_type": "code",
      "metadata": {
        "id": "S0RgOx_QxPnL",
        "colab_type": "code",
        "colab": {}
      },
      "source": [
        ""
      ],
      "execution_count": 0,
      "outputs": []
    }
  ]
}