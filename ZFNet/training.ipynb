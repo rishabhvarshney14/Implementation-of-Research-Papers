{
  "nbformat": 4,
  "nbformat_minor": 0,
  "metadata": {
    "colab": {
      "name": "training.ipynb",
      "provenance": []
    },
    "kernelspec": {
      "name": "python3",
      "display_name": "Python 3"
    },
    "accelerator": "GPU"
  },
  "cells": [
    {
      "cell_type": "code",
      "metadata": {
        "id": "8trTCNtCmOnQ",
        "colab_type": "code",
        "colab": {}
      },
      "source": [
        "import tensorflow as tf\n",
        "from tensorflow import keras\n",
        "from tensorflow.keras.preprocessing.image import ImageDataGenerator\n",
        "from zfnet import ZFnet"
      ],
      "execution_count": 0,
      "outputs": []
    },
    {
      "cell_type": "code",
      "metadata": {
        "id": "FN8CeTEHmyFg",
        "colab_type": "code",
        "outputId": "e964e197-3a36-491b-d777-c3196755f9f2",
        "colab": {
          "base_uri": "https://localhost:8080/",
          "height": 50
        }
      },
      "source": [
        "datagen = ImageDataGenerator(rescale=1.0/255.0, validation_split=0.2)\n",
        "\n",
        "train_data = datagen.flow_from_directory(directory='flowers-recognition/flowers',\n",
        "                                         target_size=(227, 227),\n",
        "                                         class_mode='categorical',\n",
        "                                         classes=['daisy', 'dandelion', 'rose', 'sunflower', 'tulip'],\n",
        "                                         shuffle=True,\n",
        "                                         batch_size=32,\n",
        "                                         subset='training')\n",
        "\n",
        "test_data = datagen.flow_from_directory(directory='flowers-recognition/flowers',\n",
        "                                         target_size=(227, 227),\n",
        "                                         class_mode='categorical',\n",
        "                                        classes=['daisy', 'dandelion', 'rose', 'sunflower', 'tulip'],\n",
        "                                         shuffle=True,\n",
        "                                         batch_size=1,\n",
        "                                        subset='validation')"
      ],
      "execution_count": 2,
      "outputs": [
        {
          "output_type": "stream",
          "text": [
            "Found 3462 images belonging to 5 classes.\n",
            "Found 861 images belonging to 5 classes.\n"
          ],
          "name": "stdout"
        }
      ]
    },
    {
      "cell_type": "code",
      "metadata": {
        "id": "rAX0zYY9mz47",
        "colab_type": "code",
        "colab": {}
      },
      "source": [
        "STEP_SIZE_TRAIN = train_data.n//train_data.batch_size\n",
        "STEP_SIZE_VALID = test_data.n//test_data.batch_size"
      ],
      "execution_count": 0,
      "outputs": []
    },
    {
      "cell_type": "code",
      "metadata": {
        "id": "qnjfkQr_nJ2A",
        "colab_type": "code",
        "outputId": "b747ca7f-89c7-44d8-e90f-57a29f092371",
        "colab": {
          "base_uri": "https://localhost:8080/",
          "height": 34
        }
      },
      "source": [
        "model = ZFnet(classes=5)\n",
        "model.build_model()\n",
        "model.compile_model()"
      ],
      "execution_count": 4,
      "outputs": [
        {
          "output_type": "execute_result",
          "data": {
            "text/plain": [
              "<tensorflow.python.keras.engine.sequential.Sequential at 0x7f0b601f96a0>"
            ]
          },
          "metadata": {
            "tags": []
          },
          "execution_count": 4
        }
      ]
    },
    {
      "cell_type": "code",
      "metadata": {
        "id": "R5HbRXn3oZ2T",
        "colab_type": "code",
        "outputId": "a5d0d393-e2d5-4957-c16c-5adbd88aa093",
        "colab": {
          "base_uri": "https://localhost:8080/",
          "height": 474
        }
      },
      "source": [
        "model.model.fit_generator(generator=train_data, steps_per_epoch=STEP_SIZE_TRAIN,\n",
        "                    validation_data=test_data, validation_steps=STEP_SIZE_VALID,\n",
        "                    epochs=11)"
      ],
      "execution_count": 5,
      "outputs": [
        {
          "output_type": "stream",
          "text": [
            "WARNING:tensorflow:From <ipython-input-5-df85f306721b>:3: Model.fit_generator (from tensorflow.python.keras.engine.training) is deprecated and will be removed in a future version.\n",
            "Instructions for updating:\n",
            "Please use Model.fit, which supports generators.\n",
            "Epoch 1/11\n",
            "108/108 [==============================] - 15s 140ms/step - loss: 1.3773 - accuracy: 0.4344 - val_loss: 1.4516 - val_accuracy: 0.3566\n",
            "Epoch 2/11\n",
            "108/108 [==============================] - 15s 138ms/step - loss: 1.1015 - accuracy: 0.5574 - val_loss: 1.4779 - val_accuracy: 0.4170\n",
            "Epoch 3/11\n",
            "108/108 [==============================] - 15s 136ms/step - loss: 0.9855 - accuracy: 0.6265 - val_loss: 1.4052 - val_accuracy: 0.4321\n",
            "Epoch 4/11\n",
            "108/108 [==============================] - 15s 137ms/step - loss: 0.8957 - accuracy: 0.6595 - val_loss: 2.6211 - val_accuracy: 0.3380\n",
            "Epoch 5/11\n",
            "108/108 [==============================] - 15s 138ms/step - loss: 0.8049 - accuracy: 0.7055 - val_loss: 0.8513 - val_accuracy: 0.6713\n",
            "Epoch 6/11\n",
            "108/108 [==============================] - 15s 142ms/step - loss: 0.7208 - accuracy: 0.7417 - val_loss: 0.8952 - val_accuracy: 0.6667\n",
            "Epoch 7/11\n",
            "108/108 [==============================] - 15s 137ms/step - loss: 0.6627 - accuracy: 0.7598 - val_loss: 0.9088 - val_accuracy: 0.6783\n",
            "Epoch 8/11\n",
            "108/108 [==============================] - 15s 138ms/step - loss: 0.6927 - accuracy: 0.7542 - val_loss: 0.8617 - val_accuracy: 0.7085\n",
            "Epoch 9/11\n",
            "108/108 [==============================] - 15s 139ms/step - loss: 0.5830 - accuracy: 0.7889 - val_loss: 4.3757 - val_accuracy: 0.3031\n",
            "Epoch 10/11\n",
            "108/108 [==============================] - 15s 138ms/step - loss: 0.5427 - accuracy: 0.8067 - val_loss: 1.1297 - val_accuracy: 0.6330\n",
            "Epoch 11/11\n",
            "108/108 [==============================] - 15s 138ms/step - loss: 0.5031 - accuracy: 0.8219 - val_loss: 0.7843 - val_accuracy: 0.7178\n"
          ],
          "name": "stdout"
        },
        {
          "output_type": "execute_result",
          "data": {
            "text/plain": [
              "<tensorflow.python.keras.callbacks.History at 0x7f0b1809b630>"
            ]
          },
          "metadata": {
            "tags": []
          },
          "execution_count": 5
        }
      ]
    },
    {
      "cell_type": "code",
      "metadata": {
        "id": "PuHprtp0sz1q",
        "colab_type": "code",
        "outputId": "7c82327a-1b4a-44d0-b825-956ee2a7ebca",
        "colab": {
          "base_uri": "https://localhost:8080/",
          "height": 104
        }
      },
      "source": [
        "model.model.evaluate_generator(test_data)"
      ],
      "execution_count": 6,
      "outputs": [
        {
          "output_type": "stream",
          "text": [
            "WARNING:tensorflow:From <ipython-input-6-7b388626dfc7>:1: Model.evaluate_generator (from tensorflow.python.keras.engine.training) is deprecated and will be removed in a future version.\n",
            "Instructions for updating:\n",
            "Please use Model.evaluate, which supports generators.\n"
          ],
          "name": "stdout"
        },
        {
          "output_type": "execute_result",
          "data": {
            "text/plain": [
              "[0.7842890620231628, 0.7177700400352478]"
            ]
          },
          "metadata": {
            "tags": []
          },
          "execution_count": 6
        }
      ]
    },
    {
      "cell_type": "code",
      "metadata": {
        "id": "S0RgOx_QxPnL",
        "colab_type": "code",
        "colab": {}
      },
      "source": [
        ""
      ],
      "execution_count": 0,
      "outputs": []
    }
  ]
}