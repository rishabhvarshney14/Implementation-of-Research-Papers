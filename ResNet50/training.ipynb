{
  "nbformat": 4,
  "nbformat_minor": 0,
  "metadata": {
    "colab": {
      "name": "training.ipynb",
      "provenance": []
    },
    "kernelspec": {
      "name": "python3",
      "display_name": "Python 3"
    },
    "accelerator": "GPU"
  },
  "cells": [
    {
      "cell_type": "code",
      "metadata": {
        "id": "8trTCNtCmOnQ",
        "colab_type": "code",
        "colab": {}
      },
      "source": [
        "import tensorflow as tf\n",
        "from tensorflow import keras\n",
        "from tensorflow.keras.preprocessing.image import ImageDataGenerator\n",
        "from resnet50 import ResNet"
      ],
      "execution_count": 0,
      "outputs": []
    },
    {
      "cell_type": "code",
      "metadata": {
        "id": "FN8CeTEHmyFg",
        "colab_type": "code",
        "outputId": "966ccf15-f7e4-4a84-f7c1-44c8b8646d37",
        "colab": {
          "base_uri": "https://localhost:8080/",
          "height": 50
        }
      },
      "source": [
        "datagen = ImageDataGenerator(rescale=1.0/255.0, validation_split=0.2)\n",
        "\n",
        "train_data = datagen.flow_from_directory(directory='flowers-recognition/flowers',\n",
        "                                         target_size=(64, 64),\n",
        "                                         class_mode='categorical',\n",
        "                                         classes=['daisy', 'dandelion', 'rose', 'sunflower', 'tulip'],\n",
        "                                         shuffle=True,\n",
        "                                         batch_size=32,\n",
        "                                         subset='training')\n",
        "\n",
        "test_data = datagen.flow_from_directory(directory='flowers-recognition/flowers',\n",
        "                                         target_size=(64, 64),\n",
        "                                         class_mode='categorical',\n",
        "                                        classes=['daisy', 'dandelion', 'rose', 'sunflower', 'tulip'],\n",
        "                                         shuffle=True,\n",
        "                                         batch_size=1,\n",
        "                                        subset='validation')"
      ],
      "execution_count": 2,
      "outputs": [
        {
          "output_type": "stream",
          "text": [
            "Found 3462 images belonging to 5 classes.\n",
            "Found 861 images belonging to 5 classes.\n"
          ],
          "name": "stdout"
        }
      ]
    },
    {
      "cell_type": "code",
      "metadata": {
        "id": "rAX0zYY9mz47",
        "colab_type": "code",
        "colab": {}
      },
      "source": [
        "STEP_SIZE_TRAIN = train_data.n//train_data.batch_size\n",
        "STEP_SIZE_VALID = test_data.n//test_data.batch_size"
      ],
      "execution_count": 0,
      "outputs": []
    },
    {
      "cell_type": "code",
      "metadata": {
        "id": "qnjfkQr_nJ2A",
        "colab_type": "code",
        "outputId": "64c816b1-5f13-4c97-cfef-f5d99a56f620",
        "colab": {
          "base_uri": "https://localhost:8080/",
          "height": 34
        }
      },
      "source": [
        "model = ResNet(classes=5)\n",
        "model.build_model()\n",
        "model.compile_model()"
      ],
      "execution_count": 4,
      "outputs": [
        {
          "output_type": "execute_result",
          "data": {
            "text/plain": [
              "<tensorflow.python.keras.engine.training.Model at 0x7f9bfbc30668>"
            ]
          },
          "metadata": {
            "tags": []
          },
          "execution_count": 4
        }
      ]
    },
    {
      "cell_type": "code",
      "metadata": {
        "id": "R5HbRXn3oZ2T",
        "colab_type": "code",
        "outputId": "b75dbd53-b529-4d55-f32a-adda55b03334",
        "colab": {
          "base_uri": "https://localhost:8080/",
          "height": 591
        }
      },
      "source": [
        "model.model.fit_generator(generator=train_data, steps_per_epoch=STEP_SIZE_TRAIN,\n",
        "                    validation_data=test_data, validation_steps=STEP_SIZE_VALID,\n",
        "                    epochs=15)"
      ],
      "execution_count": 5,
      "outputs": [
        {
          "output_type": "stream",
          "text": [
            "WARNING:tensorflow:From <ipython-input-5-0fdeeef7fcb0>:3: Model.fit_generator (from tensorflow.python.keras.engine.training) is deprecated and will be removed in a future version.\n",
            "Instructions for updating:\n",
            "Please use Model.fit, which supports generators.\n",
            "Epoch 1/15\n",
            "108/108 [==============================] - 19s 174ms/step - loss: 2.2857 - accuracy: 0.2892 - val_loss: 1.7112 - val_accuracy: 0.2439\n",
            "Epoch 2/15\n",
            "108/108 [==============================] - 18s 163ms/step - loss: 1.6156 - accuracy: 0.4227 - val_loss: 2.1477 - val_accuracy: 0.2439\n",
            "Epoch 3/15\n",
            "108/108 [==============================] - ETA: 0s - loss: 1.3977 - accuracy: 0.4808Epoch 4/15\n",
            "108/108 [==============================] - 18s 163ms/step - loss: 1.3863 - accuracy: 0.5216 - val_loss: 2.0855 - val_accuracy: 0.3310\n",
            "Epoch 5/15\n",
            "108/108 [==============================] - 18s 162ms/step - loss: 1.1734 - accuracy: 0.5679 - val_loss: 1.6016 - val_accuracy: 0.4111\n",
            "Epoch 6/15\n",
            "108/108 [==============================] - 17s 162ms/step - loss: 1.1662 - accuracy: 0.5831 - val_loss: 1.6115 - val_accuracy: 0.4890\n",
            "Epoch 7/15\n",
            "108/108 [==============================] - 18s 163ms/step - loss: 1.1294 - accuracy: 0.6143 - val_loss: 1.3895 - val_accuracy: 0.5157\n",
            "Epoch 8/15\n",
            "108/108 [==============================] - 18s 164ms/step - loss: 1.1130 - accuracy: 0.6306 - val_loss: 2.2715 - val_accuracy: 0.5354\n",
            "Epoch 9/15\n",
            "108/108 [==============================] - 17s 162ms/step - loss: 1.0497 - accuracy: 0.6466 - val_loss: 2.9516 - val_accuracy: 0.5308\n",
            "Epoch 10/15\n",
            "108/108 [==============================] - 18s 162ms/step - loss: 1.0860 - accuracy: 0.6551 - val_loss: 4.4613 - val_accuracy: 0.4983\n",
            "Epoch 11/15\n",
            "108/108 [==============================] - 18s 162ms/step - loss: 0.9083 - accuracy: 0.6892 - val_loss: 1.6535 - val_accuracy: 0.5238\n",
            "Epoch 12/15\n",
            "108/108 [==============================] - 18s 163ms/step - loss: 0.8678 - accuracy: 0.7082 - val_loss: 2.3845 - val_accuracy: 0.5308\n",
            "Epoch 13/15\n",
            "108/108 [==============================] - 18s 166ms/step - loss: 0.8738 - accuracy: 0.7312 - val_loss: 2.0840 - val_accuracy: 0.5250\n",
            "Epoch 14/15\n",
            "108/108 [==============================] - 18s 164ms/step - loss: 0.7995 - accuracy: 0.7370 - val_loss: 1.6300 - val_accuracy: 0.5017\n",
            "Epoch 15/15\n",
            "108/108 [==============================] - 18s 163ms/step - loss: 0.8289 - accuracy: 0.7224 - val_loss: 3.4120 - val_accuracy: 0.4739\n"
          ],
          "name": "stdout"
        },
        {
          "output_type": "execute_result",
          "data": {
            "text/plain": [
              "<tensorflow.python.keras.callbacks.History at 0x7f9bfbb737b8>"
            ]
          },
          "metadata": {
            "tags": []
          },
          "execution_count": 5
        }
      ]
    },
    {
      "cell_type": "code",
      "metadata": {
        "id": "PuHprtp0sz1q",
        "colab_type": "code",
        "outputId": "80043297-202b-476c-9e4d-23d85a6e0bfa",
        "colab": {
          "base_uri": "https://localhost:8080/",
          "height": 104
        }
      },
      "source": [
        "model.model.evaluate_generator(test_data)"
      ],
      "execution_count": 6,
      "outputs": [
        {
          "output_type": "stream",
          "text": [
            "WARNING:tensorflow:From <ipython-input-6-7b388626dfc7>:1: Model.evaluate_generator (from tensorflow.python.keras.engine.training) is deprecated and will be removed in a future version.\n",
            "Instructions for updating:\n",
            "Please use Model.evaluate, which supports generators.\n"
          ],
          "name": "stdout"
        },
        {
          "output_type": "execute_result",
          "data": {
            "text/plain": [
              "[3.4119620323181152, 0.47386759519577026]"
            ]
          },
          "metadata": {
            "tags": []
          },
          "execution_count": 6
        }
      ]
    },
    {
      "cell_type": "code",
      "metadata": {
        "id": "S0RgOx_QxPnL",
        "colab_type": "code",
        "colab": {}
      },
      "source": [
        ""
      ],
      "execution_count": 0,
      "outputs": []
    }
  ]
}